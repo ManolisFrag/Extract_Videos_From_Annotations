{
 "cells": [
  {
   "cell_type": "code",
   "execution_count": null,
   "metadata": {},
   "outputs": [],
   "source": [
    "from moviepy.video.io.ffmpeg_tools import ffmpeg_extract_subclip\n",
    "import pympi\n",
    "import os\n",
    "import re\n",
    "from fnmatch import fnmatch\n",
    "import argparse"
   ]
  },
  {
   "cell_type": "code",
   "execution_count": null,
   "metadata": {},
   "outputs": [],
   "source": [
    "def check_folders():\n",
    "    directory1 = \"./Extracted_videos\"\n",
    "    if not os.path.exists(directory1):\n",
    "        os.makedirs(directory1)"
   ]
  },
  {
   "cell_type": "code",
   "execution_count": null,
   "metadata": {},
   "outputs": [],
   "source": [
    "root = './'\n",
    "pattern = \"*.eaf\"\n",
    "\n",
    "gloss = 'right'\n",
    "\n",
    "for root, dirs, files in os.walk(root, topdown=False):\n",
    "    for name in files:\n",
    "        if fnmatch(name, pattern):\n",
    "            video_name = re.sub('\\.eaf$', '', name)+\".mp4\"\n",
    "            file = pympi.Eaf(file_path=name)\n",
    "            tier_names = file.get_tier_names()\n",
    "            \n",
    "            check_folders()\n",
    "            \n",
    "            for tier_name in tier_names:           \n",
    "                annotations = file.get_annotation_data_for_tier(tier_name)\n",
    "                count = 0\n",
    "                for annotation in annotations:\n",
    "                    if annotation[2] == gloss:\n",
    "                        start = annotation[0]\n",
    "                        end = annotation[1]\n",
    "                        print(start/1000,end/1000)\n",
    "                        ffmpeg_extract_subclip(video_name, start/1000, end/1000, targetname=\"Extracted_videos/\"+\"%#05d.mp4\" % (count+1))\n",
    "                        count = count+1\n",
    "                if count == 0:\n",
    "                    print(\"No annotation found with this name\")"
   ]
  }
 ],
 "metadata": {
  "kernelspec": {
   "display_name": "Python 3",
   "language": "python",
   "name": "python3"
  },
  "language_info": {
   "codemirror_mode": {
    "name": "ipython",
    "version": 3
   },
   "file_extension": ".py",
   "mimetype": "text/x-python",
   "name": "python",
   "nbconvert_exporter": "python",
   "pygments_lexer": "ipython3",
   "version": "3.5.5"
  }
 },
 "nbformat": 4,
 "nbformat_minor": 2
}
